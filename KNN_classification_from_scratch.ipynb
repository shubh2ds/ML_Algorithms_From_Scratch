{
 "cells": [
  {
   "cell_type": "code",
   "execution_count": 30,
   "metadata": {},
   "outputs": [],
   "source": [
    "import numpy as np\n",
    "from collections import Counter\n",
    "class KNN:\n",
    "    def __init__(self, k):\n",
    "        self.k = k\n",
    "\n",
    "    def fit(self,X,y):\n",
    "        self.X_train = X\n",
    "        self.y_train = y\n",
    "        \n",
    "    def eucledian(self,a,b):\n",
    "        return np.sqrt( np.sum( (a-b)**2) )\n",
    "    def predict(self,X):\n",
    "\n",
    "        predictions = [ self.predict_(test_point) for test_point in X]\n",
    "        return predictions\n",
    "\n",
    "    def predict_(self, x):\n",
    "        # distances\n",
    "        distances = [ self.eucledian(x, x_train) for x_train in self.X_train]\n",
    "        # k nearest\n",
    "        nearest_idx = np.argsort(distances)[:self.k]\n",
    "        # majority vote\n",
    "        nearest_data = [{\"distance\" :distances[idx] , \"data\": {\"x\":self.X_train[idx], \"y\":self.y_train[idx] } } for idx in nearest_idx]\n",
    "        nearest_class = [self.y_train[idx] for idx in nearest_idx]\n",
    "        majority_vote = Counter(nearest_class).most_common()\n",
    "\n",
    "        prediction_dict = { \"test_point\": x,\n",
    "                           \"majority_class\": majority_vote[0][0],\n",
    "                           \"majority_confidence\": majority_vote[0][1]/self.k,\n",
    "                           \"nearest_idx\": nearest_idx,\n",
    "                           \"nearest_data\": nearest_data\n",
    "                        \n",
    "                           }\n",
    "\n",
    "        #return [majority_vote[0][0], (nearest_idx,nearest_distance), majority_vote[0][1]/self.k]\n",
    "        return prediction_dict"
   ]
  },
  {
   "cell_type": "code",
   "execution_count": 31,
   "metadata": {},
   "outputs": [],
   "source": [
    "X = np.array([[10,20], [30,60],[40,80],[40,100],  [10,5],[40,20],[60,30],[100,10]])\n",
    "y = np.array([0,0,0,0, 1,1,1,1])"
   ]
  },
  {
   "cell_type": "code",
   "execution_count": 32,
   "metadata": {},
   "outputs": [],
   "source": [
    "model = KNN(k=5)\n",
    "model.fit(X,y)"
   ]
  },
  {
   "cell_type": "code",
   "execution_count": 33,
   "metadata": {},
   "outputs": [
    {
     "data": {
      "text/plain": [
       "[{'test_point': array([10, 20]),\n",
       "  'majority_class': 1,\n",
       "  'majority_confidence': 0.6,\n",
       "  'nearest_idx': array([0, 4, 5, 1, 6], dtype=int64),\n",
       "  'nearest_data': [{'distance': 0.0, 'data': {'x': array([10, 20]), 'y': 0}},\n",
       "   {'distance': 15.0, 'data': {'x': array([10,  5]), 'y': 1}},\n",
       "   {'distance': 30.0, 'data': {'x': array([40, 20]), 'y': 1}},\n",
       "   {'distance': 44.721359549995796, 'data': {'x': array([30, 60]), 'y': 0}},\n",
       "   {'distance': 50.99019513592785, 'data': {'x': array([60, 30]), 'y': 1}}]},\n",
       " {'test_point': array([30, 60]),\n",
       "  'majority_class': 0,\n",
       "  'majority_confidence': 0.6,\n",
       "  'nearest_idx': array([1, 2, 3, 5, 6], dtype=int64),\n",
       "  'nearest_data': [{'distance': 0.0, 'data': {'x': array([30, 60]), 'y': 0}},\n",
       "   {'distance': 22.360679774997898, 'data': {'x': array([40, 80]), 'y': 0}},\n",
       "   {'distance': 41.23105625617661, 'data': {'x': array([ 40, 100]), 'y': 0}},\n",
       "   {'distance': 41.23105625617661, 'data': {'x': array([40, 20]), 'y': 1}},\n",
       "   {'distance': 42.42640687119285, 'data': {'x': array([60, 30]), 'y': 1}}]},\n",
       " {'test_point': array([40, 80]),\n",
       "  'majority_class': 0,\n",
       "  'majority_confidence': 0.6,\n",
       "  'nearest_idx': array([2, 3, 1, 6, 5], dtype=int64),\n",
       "  'nearest_data': [{'distance': 0.0, 'data': {'x': array([40, 80]), 'y': 0}},\n",
       "   {'distance': 20.0, 'data': {'x': array([ 40, 100]), 'y': 0}},\n",
       "   {'distance': 22.360679774997898, 'data': {'x': array([30, 60]), 'y': 0}},\n",
       "   {'distance': 53.85164807134504, 'data': {'x': array([60, 30]), 'y': 1}},\n",
       "   {'distance': 60.0, 'data': {'x': array([40, 20]), 'y': 1}}]},\n",
       " {'test_point': array([ 40, 100]),\n",
       "  'majority_class': 0,\n",
       "  'majority_confidence': 0.6,\n",
       "  'nearest_idx': array([3, 2, 1, 6, 5], dtype=int64),\n",
       "  'nearest_data': [{'distance': 0.0, 'data': {'x': array([ 40, 100]), 'y': 0}},\n",
       "   {'distance': 20.0, 'data': {'x': array([40, 80]), 'y': 0}},\n",
       "   {'distance': 41.23105625617661, 'data': {'x': array([30, 60]), 'y': 0}},\n",
       "   {'distance': 72.80109889280519, 'data': {'x': array([60, 30]), 'y': 1}},\n",
       "   {'distance': 80.0, 'data': {'x': array([40, 20]), 'y': 1}}]},\n",
       " {'test_point': array([10,  5]),\n",
       "  'majority_class': 1,\n",
       "  'majority_confidence': 0.6,\n",
       "  'nearest_idx': array([4, 0, 5, 6, 1], dtype=int64),\n",
       "  'nearest_data': [{'distance': 0.0, 'data': {'x': array([10,  5]), 'y': 1}},\n",
       "   {'distance': 15.0, 'data': {'x': array([10, 20]), 'y': 0}},\n",
       "   {'distance': 33.54101966249684, 'data': {'x': array([40, 20]), 'y': 1}},\n",
       "   {'distance': 55.90169943749474, 'data': {'x': array([60, 30]), 'y': 1}},\n",
       "   {'distance': 58.52349955359813, 'data': {'x': array([30, 60]), 'y': 0}}]},\n",
       " {'test_point': array([40, 20]),\n",
       "  'majority_class': 1,\n",
       "  'majority_confidence': 0.6,\n",
       "  'nearest_idx': array([5, 6, 0, 4, 1], dtype=int64),\n",
       "  'nearest_data': [{'distance': 0.0, 'data': {'x': array([40, 20]), 'y': 1}},\n",
       "   {'distance': 22.360679774997898, 'data': {'x': array([60, 30]), 'y': 1}},\n",
       "   {'distance': 30.0, 'data': {'x': array([10, 20]), 'y': 0}},\n",
       "   {'distance': 33.54101966249684, 'data': {'x': array([10,  5]), 'y': 1}},\n",
       "   {'distance': 41.23105625617661, 'data': {'x': array([30, 60]), 'y': 0}}]},\n",
       " {'test_point': array([60, 30]),\n",
       "  'majority_class': 1,\n",
       "  'majority_confidence': 0.6,\n",
       "  'nearest_idx': array([6, 5, 1, 7, 0], dtype=int64),\n",
       "  'nearest_data': [{'distance': 0.0, 'data': {'x': array([60, 30]), 'y': 1}},\n",
       "   {'distance': 22.360679774997898, 'data': {'x': array([40, 20]), 'y': 1}},\n",
       "   {'distance': 42.42640687119285, 'data': {'x': array([30, 60]), 'y': 0}},\n",
       "   {'distance': 44.721359549995796, 'data': {'x': array([100,  10]), 'y': 1}},\n",
       "   {'distance': 50.99019513592785, 'data': {'x': array([10, 20]), 'y': 0}}]},\n",
       " {'test_point': array([100,  10]),\n",
       "  'majority_class': 1,\n",
       "  'majority_confidence': 0.8,\n",
       "  'nearest_idx': array([7, 6, 5, 1, 4], dtype=int64),\n",
       "  'nearest_data': [{'distance': 0.0, 'data': {'x': array([100,  10]), 'y': 1}},\n",
       "   {'distance': 44.721359549995796, 'data': {'x': array([60, 30]), 'y': 1}},\n",
       "   {'distance': 60.8276253029822, 'data': {'x': array([40, 20]), 'y': 1}},\n",
       "   {'distance': 86.02325267042627, 'data': {'x': array([30, 60]), 'y': 0}},\n",
       "   {'distance': 90.13878188659973, 'data': {'x': array([10,  5]), 'y': 1}}]}]"
      ]
     },
     "execution_count": 33,
     "metadata": {},
     "output_type": "execute_result"
    }
   ],
   "source": [
    "X_test = np.array([[10,20], [30,60],[40,80],[40,100],  [10,5],[40,20],[60,30],[100,10]])\n",
    "y_pred = model.predict(X_test)\n",
    "y_pred"
   ]
  }
 ],
 "metadata": {
  "kernelspec": {
   "display_name": "venv2",
   "language": "python",
   "name": "python3"
  },
  "language_info": {
   "codemirror_mode": {
    "name": "ipython",
    "version": 3
   },
   "file_extension": ".py",
   "mimetype": "text/x-python",
   "name": "python",
   "nbconvert_exporter": "python",
   "pygments_lexer": "ipython3",
   "version": "3.9.18"
  }
 },
 "nbformat": 4,
 "nbformat_minor": 2
}
