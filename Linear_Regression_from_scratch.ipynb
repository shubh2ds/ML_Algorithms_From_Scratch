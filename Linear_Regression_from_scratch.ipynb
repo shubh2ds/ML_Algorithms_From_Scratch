{
  "cells": [
    {
      "cell_type": "markdown",
      "metadata": {
        "id": "ZL4yoTdOE-iF"
      },
      "source": [
        "# Linear Regression - scratch"
      ]
    },
    {
      "cell_type": "markdown",
      "metadata": {},
      "source": [
        "## Gradient descent"
      ]
    },
    {
      "cell_type": "code",
      "execution_count": 6,
      "metadata": {},
      "outputs": [],
      "source": [
        "import numpy as np\n",
        "\n",
        "\n",
        "class LinearRegression:\n",
        "\n",
        "    def __init__(self, lr = 0.001, iteration=1000):\n",
        "        self.lr = lr\n",
        "        self.iteration = iteration\n",
        "        self.weights = None\n",
        "        self.bias = None\n",
        "\n",
        "    def fit(self, X, y):\n",
        "        n_samples, n_features = X.shape\n",
        "        self.weights = np.zeros(n_features)\n",
        "        self.bias = 0\n",
        "\n",
        "        for _ in range(self.iteration):\n",
        "            y_pred = np.dot(X, self.weights) + self.bias\n",
        "\n",
        "            dw = (1/n_samples) * np.dot(X.T, (y_pred-y))\n",
        "            db = (1/n_samples) * np.sum(y_pred-y)\n",
        "\n",
        "            self.weights = self.weights - self.lr * dw\n",
        "            self.bias = self.bias - self.lr * db\n",
        "\n",
        "    def predict(self, X):\n",
        "        y_pred = np.dot(X, self.weights) + self.bias\n",
        "        return y_pred"
      ]
    },
    {
      "cell_type": "code",
      "execution_count": 9,
      "metadata": {},
      "outputs": [],
      "source": [
        "import numpy as np\n",
        "X = np.array([2,3,4,5,6,7,8,9,10]).reshape(-1,1)\n",
        "y = np.array([200,300,400,500,600,700,800,900,1000])\n",
        "\n",
        "model = LinearRegression(lr=0.01, iteration=100)\n",
        "model.fit(X,y)"
      ]
    },
    {
      "cell_type": "code",
      "execution_count": 23,
      "metadata": {},
      "outputs": [
        {
          "data": {
            "text/plain": [
              "896.7927455492309"
            ]
          },
          "execution_count": 23,
          "metadata": {},
          "output_type": "execute_result"
        }
      ],
      "source": [
        "model.predict(np.array([9]))"
      ]
    },
    {
      "cell_type": "code",
      "execution_count": null,
      "metadata": {},
      "outputs": [],
      "source": []
    },
    {
      "cell_type": "code",
      "execution_count": 24,
      "metadata": {},
      "outputs": [
        {
          "ename": "ModuleNotFoundError",
          "evalue": "No module named 'sklearn'",
          "output_type": "error",
          "traceback": [
            "\u001b[1;31m---------------------------------------------------------------------------\u001b[0m",
            "\u001b[1;31mModuleNotFoundError\u001b[0m                       Traceback (most recent call last)",
            "Cell \u001b[1;32mIn[24], line 2\u001b[0m\n\u001b[0;32m      1\u001b[0m \u001b[38;5;28;01mimport\u001b[39;00m \u001b[38;5;21;01mnumpy\u001b[39;00m \u001b[38;5;28;01mas\u001b[39;00m \u001b[38;5;21;01mnp\u001b[39;00m\n\u001b[1;32m----> 2\u001b[0m \u001b[38;5;28;01mfrom\u001b[39;00m \u001b[38;5;21;01msklearn\u001b[39;00m\u001b[38;5;21;01m.\u001b[39;00m\u001b[38;5;21;01mmodel_selection\u001b[39;00m \u001b[38;5;28;01mimport\u001b[39;00m train_test_split\n\u001b[0;32m      3\u001b[0m \u001b[38;5;28;01mfrom\u001b[39;00m \u001b[38;5;21;01msklearn\u001b[39;00m \u001b[38;5;28;01mimport\u001b[39;00m datasets\n\u001b[0;32m      4\u001b[0m \u001b[38;5;28;01mimport\u001b[39;00m \u001b[38;5;21;01mmatplotlib\u001b[39;00m\u001b[38;5;21;01m.\u001b[39;00m\u001b[38;5;21;01mpyplot\u001b[39;00m \u001b[38;5;28;01mas\u001b[39;00m \u001b[38;5;21;01mplt\u001b[39;00m\n",
            "\u001b[1;31mModuleNotFoundError\u001b[0m: No module named 'sklearn'"
          ]
        }
      ],
      "source": [
        "import numpy as np\n",
        "from sklearn.model_selection import train_test_split\n",
        "from sklearn import datasets\n",
        "import matplotlib.pyplot as plt\n",
        "from LinearRegression import LinearRegression\n",
        "\n",
        "X, y = datasets.make_regression(n_samples=100, n_features=1, noise=20, random_state=4)\n",
        "X_train, X_test, y_train, y_test = train_test_split(X, y, test_size=0.2, random_state=1234)\n",
        "\n",
        "fig = plt.figure(figsize=(8,6))\n",
        "plt.scatter(X[:, 0], y, color = \"b\", marker = \"o\", s = 30)\n",
        "plt.show()\n",
        "\n",
        "reg = LinearRegression(lr=0.01)\n",
        "reg.fit(X_train,y_train)\n",
        "predictions = reg.predict(X_test)\n",
        "\n",
        "def mse(y_test, predictions):\n",
        "    return np.mean((y_test-predictions)**2)\n",
        "\n",
        "mse = mse(y_test, predictions)\n",
        "print(mse)\n",
        "\n",
        "y_pred_line = reg.predict(X)\n",
        "cmap = plt.get_cmap('viridis')\n",
        "fig = plt.figure(figsize=(8,6))\n",
        "m1 = plt.scatter(X_train, y_train, color=cmap(0.9), s=10)\n",
        "m2 = plt.scatter(X_test, y_test, color=cmap(0.5), s=10)\n",
        "plt.plot(X, y_pred_line, color='black', linewidth=2, label='Prediction')\n",
        "plt.show()"
      ]
    },
    {
      "cell_type": "markdown",
      "metadata": {
        "id": "ynnz5TpyAPuH"
      },
      "source": [
        "## Approach1: covariance and variance method"
      ]
    },
    {
      "cell_type": "code",
      "execution_count": 6,
      "metadata": {
        "id": "RujLgnKGxiJO"
      },
      "outputs": [],
      "source": [
        "from statistics import mean\n",
        "import numpy as np\n",
        "import matplotlib.pyplot as plt\n",
        "#Chat: https://copilot.microsoft.com/chats/QwsxrMq6tuRR45XcGPHSW"
      ]
    },
    {
      "cell_type": "code",
      "execution_count": 39,
      "metadata": {
        "id": "gdaYDTcsxksX"
      },
      "outputs": [],
      "source": [
        "xs=np.array([2,3,4,5,6,7,8,9,10])\n",
        "ys=np.array([200,300,400,600,600,700,800,900,1000])"
      ]
    },
    {
      "cell_type": "markdown",
      "metadata": {
        "id": "nfbUbXG78V12"
      },
      "source": [
        "### finding m,b using covariance and variance"
      ]
    },
    {
      "cell_type": "code",
      "execution_count": 83,
      "metadata": {
        "colab": {
          "base_uri": "https://localhost:8080/"
        },
        "id": "35hY3Mo6xvar",
        "outputId": "f7bbf96f-59e1-4a46-acff-329ff69c79aa"
      },
      "outputs": [
        {
          "name": "stdout",
          "output_type": "stream",
          "text": [
            "(98.33333333333346, 21.111111111110404)\n"
          ]
        }
      ],
      "source": [
        "def find_bestfit_slope_intercept(xs,ys):\n",
        "    # y = mx + b\n",
        "    # m = y/x - b/x\n",
        "    m=((np.mean(xs)*np.mean(ys))-np.mean(xs*ys))/((np.mean(xs)*np.mean(xs))-np.mean(xs*xs))\n",
        "    b=np.mean(ys)-(m*np.mean(xs))\n",
        "    return m,b\n",
        "\n",
        "\"\"\"def find_bestfit_slope_intercept(xs,ys):\n",
        "    m=((mean(xs)*mean(ys))-mean(xs*ys))/((mean(xs)*mean(xs))-mean(xs*xs))\n",
        "    b=mean(ys)-(m*mean(xs))\n",
        "    return m,b\"\"\"\n",
        "\n",
        "print(find_bestfit_slope_intercept(xs,ys))\n",
        "m,c=find_bestfit_slope_intercept(xs,ys)"
      ]
    },
    {
      "cell_type": "markdown",
      "metadata": {
        "id": "E9xgZMdi7a1u"
      },
      "source": [
        "### On train set"
      ]
    },
    {
      "cell_type": "code",
      "execution_count": 59,
      "metadata": {
        "colab": {
          "base_uri": "https://localhost:8080/"
        },
        "id": "Jvfp50IXyogK",
        "outputId": "963bb4b7-d8e9-4179-cc63-863e9806fc4d"
      },
      "outputs": [
        {
          "data": {
            "text/plain": [
              "[217.77777777777732,\n",
              " 316.11111111111074,\n",
              " 414.44444444444423,\n",
              " 512.7777777777777,\n",
              " 611.1111111111111,\n",
              " 709.4444444444446,\n",
              " 807.777777777778,\n",
              " 906.1111111111115,\n",
              " 1004.444444444445]"
            ]
          },
          "execution_count": 59,
          "metadata": {},
          "output_type": "execute_result"
        }
      ],
      "source": [
        "\n",
        "y_pred=[(m*x+c)for x in xs]\n",
        "y_pred"
      ]
    },
    {
      "cell_type": "code",
      "execution_count": 60,
      "metadata": {
        "colab": {
          "base_uri": "https://localhost:8080/",
          "height": 448
        },
        "id": "zeucJugRytQo",
        "outputId": "7ce723b4-26fe-47b7-ccb4-3c5153a8c065"
      },
      "outputs": [
        {
          "data": {
            "text/plain": [
              "[<matplotlib.lines.Line2D at 0x7f9b9459e4d0>]"
            ]
          },
          "execution_count": 60,
          "metadata": {},
          "output_type": "execute_result"
        },
        {
          "data": {
            "image/png": "[encoded data removed]",
            "text/plain": [
              "<Figure size 640x480 with 1 Axes>"
            ]
          },
          "metadata": {},
          "output_type": "display_data"
        }
      ],
      "source": [
        "plt.scatter(xs[:],ys[:],c='g')\n",
        "plt.plot(xs[:],y_pred[:],c='b')"
      ]
    },
    {
      "cell_type": "code",
      "execution_count": 61,
      "metadata": {
        "colab": {
          "base_uri": "https://localhost:8080/"
        },
        "id": "Q3_SYtV5yzfh",
        "outputId": "166a4a1c-88f9-4116-c875-4759cc2679cc"
      },
      "outputs": [
        {
          "data": {
            "text/plain": [
              "8722.222222222215"
            ]
          },
          "execution_count": 61,
          "metadata": {},
          "output_type": "execute_result"
        }
      ],
      "source": [
        "def square_error(ys_line,ys_org):\n",
        "    #Squared Error = Σ(yᵢ - ŷᵢ)²\n",
        "    s=sum((ys_line-ys_org)*(ys_line-ys_org))\n",
        "    return s\n",
        "ey_reg=square_error(y_pred, ys)\n",
        "ey_reg"
      ]
    },
    {
      "cell_type": "code",
      "execution_count": 62,
      "metadata": {
        "colab": {
          "base_uri": "https://localhost:8080/"
        },
        "id": "6LwT9Qyby9XO",
        "outputId": "9fde6296-77a5-4d14-b19a-9daabbbe2e76"
      },
      "outputs": [
        {
          "data": {
            "text/plain": [
              "[611.1111111111111,\n",
              " 611.1111111111111,\n",
              " 611.1111111111111,\n",
              " 611.1111111111111,\n",
              " 611.1111111111111,\n",
              " 611.1111111111111,\n",
              " 611.1111111111111,\n",
              " 611.1111111111111,\n",
              " 611.1111111111111]"
            ]
          },
          "execution_count": 62,
          "metadata": {},
          "output_type": "execute_result"
        }
      ],
      "source": [
        "y_mean=[np.mean(ys) for y in ys]\n",
        "y_mean"
      ]
    },
    {
      "cell_type": "code",
      "execution_count": 63,
      "metadata": {
        "colab": {
          "base_uri": "https://localhost:8080/"
        },
        "id": "k95MFCFzzEGX",
        "outputId": "8981ed95-ef2e-4451-e2b2-0630a1c14af4"
      },
      "outputs": [
        {
          "data": {
            "text/plain": [
              "588888.888888889"
            ]
          },
          "execution_count": 63,
          "metadata": {},
          "output_type": "execute_result"
        }
      ],
      "source": [
        "#print(y_mean)\n",
        "ey_line=square_error(ys,y_mean)\n",
        "ey_line"
      ]
    },
    {
      "cell_type": "code",
      "execution_count": 64,
      "metadata": {
        "colab": {
          "base_uri": "https://localhost:8080/"
        },
        "id": "RNTqifGYzHgt",
        "outputId": "00888f38-7115-41d6-e933-854e050c7b22"
      },
      "outputs": [
        {
          "data": {
            "text/plain": [
              "0.9851886792452831"
            ]
          },
          "execution_count": 64,
          "metadata": {},
          "output_type": "execute_result"
        }
      ],
      "source": [
        "r2_score=1-(ey_reg/ey_line)\n",
        "r2_score"
      ]
    },
    {
      "cell_type": "markdown",
      "metadata": {
        "id": "OTSfA8Gc7zJ0"
      },
      "source": [
        "### on new data"
      ]
    },
    {
      "cell_type": "code",
      "execution_count": 72,
      "metadata": {
        "id": "WGOQo5T472a7"
      },
      "outputs": [],
      "source": [
        "# Generate 20 more records for xs and ys (example values)\n",
        "xs = np.arange(11, 31)  # Values from 11 to 30\n",
        "ys = np.linspace(1100, 3000, 20)  # Values from 1100 to 3000, evenly spaced\n"
      ]
    },
    {
      "cell_type": "code",
      "execution_count": 73,
      "metadata": {
        "colab": {
          "base_uri": "https://localhost:8080/"
        },
        "id": "WwBk1T3b8B_y",
        "outputId": "327251bf-8a65-41e1-efea-d6ecf6e81203"
      },
      "outputs": [
        {
          "data": {
            "text/plain": [
              "[1102.7777777777785,\n",
              " 1201.1111111111118,\n",
              " 1299.4444444444453,\n",
              " 1397.7777777777787,\n",
              " 1496.1111111111122,\n",
              " 1594.4444444444457,\n",
              " 1692.7777777777792,\n",
              " 1791.1111111111127,\n",
              " 1889.4444444444462,\n",
              " 1987.7777777777796,\n",
              " 2086.111111111113,\n",
              " 2184.4444444444466,\n",
              " 2282.77777777778,\n",
              " 2381.111111111113,\n",
              " 2479.4444444444466,\n",
              " 2577.77777777778,\n",
              " 2676.1111111111136,\n",
              " 2774.444444444447,\n",
              " 2872.7777777777806,\n",
              " 2971.111111111114]"
            ]
          },
          "execution_count": 73,
          "metadata": {},
          "output_type": "execute_result"
        }
      ],
      "source": [
        "y_pred=[(m*x+c)for x in xs]\n",
        "y_pred"
      ]
    },
    {
      "cell_type": "code",
      "execution_count": 74,
      "metadata": {
        "colab": {
          "base_uri": "https://localhost:8080/",
          "height": 448
        },
        "id": "zvORjjxX8B_y",
        "outputId": "e0bbb008-7a9f-4e80-abb2-7492f0b8ebdc"
      },
      "outputs": [
        {
          "data": {
            "text/plain": [
              "[<matplotlib.lines.Line2D at 0x7f9b944f0c10>]"
            ]
          },
          "execution_count": 74,
          "metadata": {},
          "output_type": "execute_result"
        },
        {
          "data": {
            "image/png": "[encoded data removed]",
            "text/plain": [
              "<Figure size 640x480 with 1 Axes>"
            ]
          },
          "metadata": {},
          "output_type": "display_data"
        }
      ],
      "source": [
        "plt.scatter(xs[:],ys[:],c='g')\n",
        "plt.plot(xs[:],y_pred[:],c='b')"
      ]
    },
    {
      "cell_type": "code",
      "execution_count": 68,
      "metadata": {
        "colab": {
          "base_uri": "https://localhost:8080/"
        },
        "id": "tKgmk5GL8B_y",
        "outputId": "bdbf8342-46da-4d31-ed51-9f780b75b3fe"
      },
      "outputs": [
        {
          "data": {
            "text/plain": [
              "8722.222222222215"
            ]
          },
          "execution_count": 68,
          "metadata": {},
          "output_type": "execute_result"
        }
      ],
      "source": [
        "def square_error(ys_line,ys_org):\n",
        "    #Squared Error = Σ(yᵢ - ŷᵢ)²\n",
        "    s=sum((ys_line-ys_org)*(ys_line-ys_org))\n",
        "    return s\n",
        "ey_reg=square_error(y_pred, ys)\n",
        "ey_reg"
      ]
    },
    {
      "cell_type": "code",
      "execution_count": 75,
      "metadata": {
        "colab": {
          "base_uri": "https://localhost:8080/"
        },
        "id": "-QbP9erS8B_z",
        "outputId": "1e9d54ce-0f9d-4ebb-caca-0717afb02a51"
      },
      "outputs": [
        {
          "data": {
            "text/plain": [
              "[2050.0,\n",
              " 2050.0,\n",
              " 2050.0,\n",
              " 2050.0,\n",
              " 2050.0,\n",
              " 2050.0,\n",
              " 2050.0,\n",
              " 2050.0,\n",
              " 2050.0,\n",
              " 2050.0,\n",
              " 2050.0,\n",
              " 2050.0,\n",
              " 2050.0,\n",
              " 2050.0,\n",
              " 2050.0,\n",
              " 2050.0,\n",
              " 2050.0,\n",
              " 2050.0,\n",
              " 2050.0,\n",
              " 2050.0]"
            ]
          },
          "execution_count": 75,
          "metadata": {},
          "output_type": "execute_result"
        }
      ],
      "source": [
        "y_mean=[np.mean(ys) for y in ys]\n",
        "y_mean"
      ]
    },
    {
      "cell_type": "code",
      "execution_count": 76,
      "metadata": {
        "colab": {
          "base_uri": "https://localhost:8080/"
        },
        "id": "HTfZn6Sf8B_z",
        "outputId": "5f2c0fe8-c0f2-4f99-d6ad-8243213df9b5"
      },
      "outputs": [
        {
          "data": {
            "text/plain": [
              "6650000.0"
            ]
          },
          "execution_count": 76,
          "metadata": {},
          "output_type": "execute_result"
        }
      ],
      "source": [
        "#print(y_mean)\n",
        "ey_line=square_error(ys,y_mean)\n",
        "ey_line"
      ]
    },
    {
      "cell_type": "code",
      "execution_count": 77,
      "metadata": {
        "colab": {
          "base_uri": "https://localhost:8080/"
        },
        "id": "bpc_sVKS8B_z",
        "outputId": "2722d436-65d8-47c8-8d34-d53d359b546d"
      },
      "outputs": [
        {
          "data": {
            "text/plain": [
              "0.9986883876357561"
            ]
          },
          "execution_count": 77,
          "metadata": {},
          "output_type": "execute_result"
        }
      ],
      "source": [
        "r2_score=1-(ey_reg/ey_line)\n",
        "r2_score"
      ]
    },
    {
      "cell_type": "code",
      "execution_count": null,
      "metadata": {
        "id": "T6FAUY-2956t"
      },
      "outputs": [],
      "source": [
        "#R² = 1 - (SSres / SStot)\n",
        "# SSres = Σ(yᵢ - ŷᵢ)²\n",
        "# SStot = Σ(yᵢ - ȳ)²\n",
        "#where: * yᵢ is the actual y-value for the i-th data point * ŷᵢ is the predicted y-value for the i-th data point\n",
        "\n",
        "#SStot is the total sum of squares. It represents the total variation in the dependent variable.\n",
        "\n",
        "#where:\n",
        "#   * yᵢ is the actual y-value for the i-th data point\n",
        "#   * ȳ is the mean of the actual y-values\n",
        "\"\"\"\n",
        "Interpretation:\n",
        "\n",
        "R² = 1: Indicates a perfect fit. The model explains all the variance in the dependent variable.\n",
        "R² = 0: Indicates that the model does not explain any of the variance in the dependent variable.\n",
        "0 < R² < 1: Indicates the proportion of variance explained by the model. For example, an R² of 0.8 means that the model explains 80% of the variance in the dependent variable.\"\"\""
      ]
    },
    {
      "cell_type": "markdown",
      "metadata": {
        "id": "x25jh2zs8H8C"
      },
      "source": [
        "### plot prediction"
      ]
    },
    {
      "cell_type": "code",
      "execution_count": 34,
      "metadata": {
        "colab": {
          "base_uri": "https://localhost:8080/",
          "height": 473
        },
        "id": "SyYC4kCKzY_P",
        "outputId": "4a0ddd86-9a38-451a-fe8b-98cc394ee3a2"
      },
      "outputs": [
        {
          "name": "stdout",
          "output_type": "stream",
          "text": [
            "1.0\n"
          ]
        },
        {
          "data": {
            "image/png": "[encoded data removed]",
            "text/plain": [
              "<Figure size 640x480 with 1 Axes>"
            ]
          },
          "metadata": {},
          "output_type": "display_data"
        }
      ],
      "source": [
        "plt.xlabel(\"Experiance\")\n",
        "plt.ylabel(\"Salary\")\n",
        "print(r2_score)\n",
        "def predict(x):\n",
        "    yp=m*x+c\n",
        "    plt.scatter(x,yp,c='r')"
      ]
    },
    {
      "cell_type": "code",
      "execution_count": 35,
      "metadata": {
        "colab": {
          "base_uri": "https://localhost:8080/",
          "height": 430
        },
        "id": "bBaRAN3_xX9p",
        "outputId": "191826ba-4277-4fc0-b307-3be26abe1274"
      },
      "outputs": [
        {
          "data": {
            "image/png": "[encoded data removed]",
            "text/plain": [
              "<Figure size 640x480 with 1 Axes>"
            ]
          },
          "metadata": {},
          "output_type": "display_data"
        }
      ],
      "source": [
        "predict(8)\n",
        "predict(11)\n",
        "predict(12)\n",
        "plt.show()"
      ]
    },
    {
      "cell_type": "code",
      "execution_count": null,
      "metadata": {
        "id": "t6hm2wPbzbyi"
      },
      "outputs": [],
      "source": []
    },
    {
      "cell_type": "markdown",
      "metadata": {
        "id": "Zn4xtQiI_O8L"
      },
      "source": [
        "## Approach2: iterate through a range of m and b values\n",
        "\n",
        "We'll use a brute-force approach to iterate through a range of m and b values, calculate the squared error for each combination, and identify the combination that yields the minimum squared error."
      ]
    },
    {
      "cell_type": "code",
      "execution_count": 84,
      "metadata": {
        "id": "KxMT2_jpBugC"
      },
      "outputs": [],
      "source": [
        "import numpy as np\n",
        "\n",
        "def find_bestfit_slope_intercept(xs,ys):\n",
        "    # y = mx + b\n",
        "    # m = y/x - b/x\n",
        "    m=((np.mean(xs)*np.mean(ys))-np.mean(xs*ys))/((np.mean(xs)*np.mean(xs))-np.mean(xs*xs))\n",
        "    b=np.mean(ys)-(m*np.mean(xs))\n",
        "    return m,b\n",
        "\n",
        "def calculate_squared_error(xs, ys, m, b):\n",
        "  \"\"\"Calculates the squared error for given m and b.\"\"\"\n",
        "  y_pred = m * xs + b\n",
        "  squared_error = np.sum((ys - y_pred)**2)\n",
        "  return squared_error\n",
        "\n",
        "def find_best_fit_line(xs, ys, m_range, b_range):\n",
        "  \"\"\"Finds the best-fit line by minimizing squared error.\"\"\"\n",
        "  min_error = float('inf')  # Initialize with a very large value\n",
        "  best_m, best_b = None, None\n",
        "\n",
        "  for m in m_range:\n",
        "    for b in b_range:\n",
        "      error = calculate_squared_error(xs, ys, m, b)\n",
        "      if error < min_error:\n",
        "        min_error = error\n",
        "        best_m, best_b = m, b\n",
        "\n",
        "  return best_m, best_b, min_error"
      ]
    },
    {
      "cell_type": "code",
      "execution_count": 90,
      "metadata": {
        "colab": {
          "base_uri": "https://localhost:8080/"
        },
        "id": "4bnSqjhrBzhC",
        "outputId": "ff23c32e-c5ea-4642-eeea-223c35f18e1c"
      },
      "outputs": [
        {
          "data": {
            "text/plain": [
              "(98.33333333333346, 21.111111111110404)"
            ]
          },
          "execution_count": 90,
          "metadata": {},
          "output_type": "execute_result"
        }
      ],
      "source": [
        "# Example usage\n",
        "#xs = np.array([1, 2, 3, 4, 5])\n",
        "#ys = np.array([2, 4, 5, 4, 5])\n",
        "\n",
        "xs=np.array([2,3,4,5,6,7,8,9,10])\n",
        "ys=np.array([200,300,400,600,600,700,800,900,1000])\n",
        "find_bestfit_slope_intercept(xs,ys)\n"
      ]
    },
    {
      "cell_type": "code",
      "execution_count": null,
      "metadata": {
        "id": "T9uLWYbGD24M"
      },
      "outputs": [],
      "source": [
        "# Define ranges for m and b\n",
        "m_range = np.arange(90, 99, 1)   # Values from 0 to 2 with step 0.1\n",
        "b_range = np.arange(0, 25, 1)   # Values from 0 to 3 with step 0.1\n",
        "m_range , b_range"
      ]
    },
    {
      "cell_type": "code",
      "execution_count": 89,
      "metadata": {
        "colab": {
          "base_uri": "https://localhost:8080/"
        },
        "id": "m-FaGygM_P10",
        "outputId": "d25b60bd-3a42-4184-89be-73196acb095d"
      },
      "outputs": [
        {
          "name": "stdout",
          "output_type": "stream",
          "text": [
            "Best fit line: y = 98.00x + 23.00\n",
            "Minimum squared error: 8729.00\n"
          ]
        }
      ],
      "source": [
        "\n",
        "# Find the best-fit line\n",
        "best_m, best_b, min_error = find_best_fit_line(xs, ys, m_range, b_range)\n",
        "\n",
        "print(f\"Best fit line: y = {best_m:.2f}x + {best_b:.2f}\")\n",
        "print(f\"Minimum squared error: {min_error:.2f}\")"
      ]
    },
    {
      "cell_type": "code",
      "execution_count": null,
      "metadata": {
        "id": "J21rlonFAdAe"
      },
      "outputs": [],
      "source": []
    }
  ],
  "metadata": {
    "colab": {
      "collapsed_sections": [
        "OTSfA8Gc7zJ0",
        "Zn4xtQiI_O8L"
      ],
      "provenance": []
    },
    "kernelspec": {
      "display_name": "Python 3",
      "name": "python3"
    },
    "language_info": {
      "codemirror_mode": {
        "name": "ipython",
        "version": 3
      },
      "file_extension": ".py",
      "mimetype": "text/x-python",
      "name": "python",
      "nbconvert_exporter": "python",
      "pygments_lexer": "ipython3",
      "version": "3.9.18"
    }
  },
  "nbformat": 4,
  "nbformat_minor": 0
}
