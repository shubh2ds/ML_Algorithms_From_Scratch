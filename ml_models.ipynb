{
 "cells": [
  {
   "cell_type": "markdown",
   "metadata": {},
   "source": [
    "## Linear Regression"
   ]
  },
  {
   "cell_type": "code",
   "execution_count": 2,
   "metadata": {},
   "outputs": [],
   "source": [
    "import numpy as np\n",
    "class LinearRegression:\n",
    "    def __init__(self,lr=0.01, iteration = 100):\n",
    "        self.lr = lr\n",
    "        self.iteration = iteration\n",
    "        #y = wx+b\n",
    "        self.weights = None\n",
    "        self.bias = None\n",
    "\n",
    "    def fit(self, X,y):\n",
    "        n_samples, n_features = X.shape\n",
    "        self.weights = np.zeros(n_features)\n",
    "        self.bias = 0\n",
    "\n",
    "        for _ in range(self.iteration):\n",
    "\n",
    "            y_pred = np.dot(X , self.weights) + self.bias\n",
    "            #MSE = np.mean((y-y_pred)**2)\n",
    "            dw = (1/n_samples) * np.dot(X.T , (y_pred - y))\n",
    "            db = (1/n_samples) * np.sum(y_pred - y)\n",
    "\n",
    "            self.weights = self.weights  - self.lr * dw\n",
    "            self.bias = self.bias - self.lr * db \n",
    "\n",
    "    def predict(self, X):\n",
    "        y_pred = np.dot(X , self.weights) + self.bias\n",
    "        return y_pred\n",
    "\n"
   ]
  },
  {
   "cell_type": "code",
   "execution_count": 6,
   "metadata": {},
   "outputs": [],
   "source": [
    "X = np.array([1,2,3,4,5,6,7,8,9]).reshape(-1,1)\n",
    "y = np.array([100,200,300,400,500,600,700,800,900])"
   ]
  },
  {
   "cell_type": "code",
   "execution_count": 7,
   "metadata": {},
   "outputs": [],
   "source": [
    "model = LinearRegression(lr=0.01, iteration = 10)\n",
    "model.fit(X,y)"
   ]
  },
  {
   "cell_type": "code",
   "execution_count": 9,
   "metadata": {},
   "outputs": [
    {
     "data": {
      "text/plain": [
       "780.1630995685375"
      ]
     },
     "execution_count": 9,
     "metadata": {},
     "output_type": "execute_result"
    }
   ],
   "source": [
    "model.predict(np.array([8]))"
   ]
  },
  {
   "cell_type": "markdown",
   "metadata": {},
   "source": [
    "## Logistic Regression"
   ]
  },
  {
   "cell_type": "code",
   "execution_count": 13,
   "metadata": {},
   "outputs": [],
   "source": [
    "import numpy as np\n",
    "class LogisticRegression:\n",
    "    def __init__(self,lr=0.01, iteration = 100):\n",
    "        self.lr = lr\n",
    "        self.iteration = iteration\n",
    "        #y = wx+b\n",
    "        self.weights = None\n",
    "        self.bias = None\n",
    "    def sigmoid(self, z):\n",
    "        return 1/(1+np.exp(-z))\n",
    "\n",
    "    def fit(self, X,y):\n",
    "        n_samples, n_features = X.shape\n",
    "        self.weights = np.zeros(n_features)\n",
    "        self.bias = 0\n",
    "\n",
    "        for _ in range(self.iteration):\n",
    "\n",
    "            y_pred = self.sigmoid( np.dot(X , self.weights) + self.bias )\n",
    "            #MSE = np.mean((y-y_pred)**2)\n",
    "            dw = (1/n_samples) * np.dot(X.T , (y_pred - y))\n",
    "            db = (1/n_samples) * np.sum(y_pred - y)\n",
    "\n",
    "            self.weights = self.weights  - self.lr * dw\n",
    "            self.bias = self.bias - self.lr * db \n",
    "\n",
    "    def predict(self, X):\n",
    "        y_pred = self.sigmoid( np.dot(X , self.weights) + self.bias )\n",
    "        pred_class = [ 1 if pred>=0.5  else 0 for pred in y_pred] \n",
    "        return y_pred, pred_class\n"
   ]
  },
  {
   "cell_type": "code",
   "execution_count": 14,
   "metadata": {},
   "outputs": [],
   "source": [
    "X = np.array([[2,4],[3,6],[4,8],[10,5], [20,10],[50,25]])\n",
    "y = np.array([0,0,0,1,1,1])"
   ]
  },
  {
   "cell_type": "code",
   "execution_count": 16,
   "metadata": {},
   "outputs": [],
   "source": [
    "model = LogisticRegression(lr=0.01, iteration = 100)\n",
    "model.fit(X,y)"
   ]
  },
  {
   "cell_type": "code",
   "execution_count": 18,
   "metadata": {},
   "outputs": [
    {
     "data": {
      "text/plain": [
       "(array([2.43427077e-01, 9.99999925e-01, 9.61132418e-01, 2.12140795e-23]),\n",
       " [0, 1, 1, 0])"
      ]
     },
     "execution_count": 18,
     "metadata": {},
     "output_type": "execute_result"
    }
   ],
   "source": [
    "model.predict(np.array([[2,4], [100,50], [20,10], [100,200]]))"
   ]
  }
 ],
 "metadata": {
  "kernelspec": {
   "display_name": "venv2",
   "language": "python",
   "name": "python3"
  },
  "language_info": {
   "codemirror_mode": {
    "name": "ipython",
    "version": 3
   },
   "file_extension": ".py",
   "mimetype": "text/x-python",
   "name": "python",
   "nbconvert_exporter": "python",
   "pygments_lexer": "ipython3",
   "version": "3.9.18"
  }
 },
 "nbformat": 4,
 "nbformat_minor": 2
}
